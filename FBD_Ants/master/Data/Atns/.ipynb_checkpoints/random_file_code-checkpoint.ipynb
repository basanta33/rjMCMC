{
 "cells": [
  {
   "cell_type": "code",
   "execution_count": 1,
   "id": "c1a3de56-5d5d-47eb-a16d-e42c10d1f55a",
   "metadata": {},
   "outputs": [],
   "source": [
    "import pandas as pd\n",
    "import csv\n",
    "import random\n",
    "import os\n",
    "import numpy as np"
   ]
  },
  {
   "cell_type": "code",
   "execution_count": 2,
   "id": "8b36ac7c-6556-4309-aab3-207434b48edc",
   "metadata": {},
   "outputs": [],
   "source": [
    "#read the main Ants file\n",
    "df = pd.read_csv('Ants.csv')"
   ]
  },
  {
   "cell_type": "code",
   "execution_count": 3,
   "id": "7f097c6d-c1a3-4405-aecc-9dcc5690243c",
   "metadata": {},
   "outputs": [],
   "source": [
    "#m2 would drop the unwanted columns of ant file without changing/saving anything to that (ant) file\n",
    "m2= df.drop(columns =['reference_no', 'subfamily', 'tribe', 'genus', 'fossil', 'notes'])\n",
    "\n",
    "#getting 200 no duplicate random taxon\n",
    "m = m2.sample(n = 200)\n",
    "\n",
    "#saving the 200 random taxon into one tsv file\n",
    "m1= m.to_csv('Random.tsv', sep = \"\\t\", index = False)"
   ]
  },
  {
   "cell_type": "code",
   "execution_count": 5,
   "id": "a3c74385-c9b9-4674-9033-8b0d5663d157",
   "metadata": {},
   "outputs": [],
   "source": [
    "#split 200 taxon of one file into 20 files with 10 taxon\n",
    "random = pd.read_csv('Random.tsv') #upload the random file\n",
    "k = 20 #number of files needed\n",
    "size = 10 #number of taxon on each \n",
    " \n",
    "for i in range(k):\n",
    "    rm = random[size*i:size*(i+1)]\n",
    "    rm.to_csv(f'ran{i+1}.tsv', index=False)"
   ]
  },
  {
   "cell_type": "code",
   "execution_count": null,
   "id": "63390b13",
   "metadata": {},
   "outputs": [],
   "source": []
  }
 ],
 "metadata": {
  "kernelspec": {
   "display_name": "Python 3",
   "language": "python",
   "name": "python3"
  },
  "language_info": {
   "codemirror_mode": {
    "name": "ipython",
    "version": 3
   },
   "file_extension": ".py",
   "mimetype": "text/x-python",
   "name": "python",
   "nbconvert_exporter": "python",
   "pygments_lexer": "ipython3",
   "version": "3.9.1"
  }
 },
 "nbformat": 4,
 "nbformat_minor": 5
}
