{
 "cells": [
  {
   "cell_type": "code",
   "execution_count": null,
   "id": "b30a7485-628b-41e8-8b91-96a6663a8565",
   "metadata": {},
   "outputs": [],
   "source": [
    "import pandas as pd\n",
    "import csv\n",
    "import random\n",
    "import os"
   ]
  },
  {
   "cell_type": "code",
   "execution_count": 35,
   "id": "4456dd3c-5be4-4197-8fee-bd6df598bc91",
   "metadata": {},
   "outputs": [],
   "source": [
    "df = pd.read_csv('Ants.csv')"
   ]
  },
  {
   "cell_type": "code",
   "execution_count": 36,
   "id": "6d9a44b0-32a5-4e34-b909-1b27e47f6373",
   "metadata": {},
   "outputs": [],
   "source": [
    "#df.tail()\n",
    "df_group = df.groupby(\"subfamily\").count()"
   ]
  },
  {
   "cell_type": "code",
   "execution_count": null,
   "id": "e2f779f1-61f5-44c1-afe4-9296e6d914f2",
   "metadata": {},
   "outputs": [],
   "source": [
    "#reading the csv file \n",
    "df_a = df.groupby(\"subfamily\")[[\"specimen\",\"min_ma\", \"max_ma\"]].min().reset_index(drop=True)\n",
    "df_a.to_csv('Ants_file_a.tsv', sep = \"\\t\", index = False)"
   ]
  },
  {
   "cell_type": "code",
   "execution_count": null,
   "id": "a1cb9c27-6a7c-4a4a-b575-de6b7c50892b",
   "metadata": {},
   "outputs": [],
   "source": [
    "df_b = df.groupby(\"subfamily\")[[\"specimen\",\"min_ma\", \"max_ma\"]].max().reset_index(drop=True)\n",
    "df_b.to_csv('Ants_file_b.tsv', sep = \"\\t\", index = False)"
   ]
  },
  {
   "cell_type": "code",
   "execution_count": null,
   "id": "ca7ea38a-1132-45e5-b588-c91629f804c3",
   "metadata": {},
   "outputs": [],
   "source": [
    "for i in range(20):   \n",
    "    y = df.groupby('subfamily')[[\"specimen\", \"min_ma\", \"max_ma\"]].apply(lambda x: x.sample(1)).reset_index(drop=True)\n",
    "    y.columns = [\"taxon\", \"min\",  \"max\"]\n",
    "    print(y)\n",
    "    file_string = \"Ants_random_\" +  str(i)\n",
    "    y.to_csv(file_string, sep = \"\\t\")"
   ]
  },
  {
   "cell_type": "code",
   "execution_count": null,
   "id": "0cdaa9b5",
   "metadata": {},
   "outputs": [],
   "source": [
    "search_list= [\"Acanthoponera_minor\", \"Amblyopone_pallipes\", \"Aneuretus\", \"Anomalomyrma_sp\", \"Apomyrma_stygia\", \"Brownimecia_clavata\", \"Camelomecia\", \"Cerapachys_sexspinus\", \"Chalybion_californicum\", \"Chyphotes_mellipes\", \"Formica_fusca\", \"Gerontoformica_gracilis\", \"Gerontoformica_magnus\", \"Gerontoformica_pilosus\", \"Gerontoformica_spiralis\", \"Haidomyrmex_scimitarus\", \"Haidomyrmodes_mammuthus\", \"Haidoterminus_cippus\", \"Heterogyna\", \"Hypoponera_opacior\", \"Kyromyrma\", \"Lasius_californicus\", \"Leptanilla_swani\", \"Leptanilloides_nomada\", \"Leptogenys_diminuta\", \"Martialis_heureka\", \"Metapolybia_cingulata\", \"Myanmyrma_gracilis\", \"Myrmecia_nigriceps\", \"Myrmica_americana\", \"Nothomyrmecia_macrops\", \"Opamyrma_hungvuong\", \"Paraponera_clavata\", \"Platythyrea_punctata\", \"Pogonomyrmex_californicus\", \"Proceratium_stictum\", \"Scolia_verticalis\", \"Sphecomyrma_freyi\", \"Tatuidris_tatusia\", \"Tetraponera_punctulata\", \"Zigrasimecia\", \"Adetomyrma_sp.\", \"Amblyopone_armigera\", \"Amblyopone_australis\", \"Amblyopone_mercovichi\", \"Amblyopone_mystriops\", \"Amblyopone_pluto\", \"Amblyopone_mutica\", \"Concoctio_concenta\", \"Myopopone_castanea\", \"Mystrium_voeltzkowi\", \"Onychomyrmex_doddi\", \"Prionopelta_aethiopica\", \"Prionopelta_antillana\", \"Ectatomma_tuberculatum\", \"Gnamptogenys_annulata\", \"Gnamptogenys_striatula\", \"Gnamptogenys_bufonis\", \"Gnamptogenys_minuta\", \"Rhytidoponera_confusa\", \"Typhlomyrmex_pusillus\", \"Typhlomyrmex_rogenhoferi\", \"Heteroponera_brouni\", \"Heteroponera_relicta\", \"Platythyrea_turneri\", \"Anochetus_emarginatus\", \"Odontomachus_bauri\", \"Asphinctopone_silvestrii\", \"Belonopelta_deletrix\", \"Centromyrmex_brachycola\", \"Cryptopone_gilva\", \"Diacamma_ceylonense\", \"Dinoponera_lucida\", \"Dolioponera_fustigera\", \"Emeryopone_buttelreepeni\", \"Harpegnathos_saltator\", \"Hypoponera_sp.\", \"Leptogenys_sp._1\", \"Leptogenys_sp._2\", \"Leptogenys_podenzanai\", \"Loboponera_obeliscata\", \"Loboponera_vigilans\", \"Myopias_maligna\", \"Odontoponera_transversa\", \"Pachycondyla_apicalis\", \"Pachycondyla_berthoudi\", \"Pachycondyla_crassinoda\", \"Pachycondyla_croceicornis\", \"Pachycondyla_guianensis\", \"Pachycondyla_marleyi\", \"Pachycondyla_pachyderma\", \"Pachycondyla_porcata\", \"Pachycondyla_stigma\", \"Pachycondyla_tarsata\", \"Pachycondyla_villosa\", \"Phrynoponera_gabonensis\", \"Plectroctena_strigosa\", \"Ponera_alpha\", \"Ponera_pennsylvanica\", \"Psalidomyrmex_procerus\", \"Simopelta_oculata\", \"Streblognathus_peetersi\", \"Thaumatomyrmex_atrox\", \"Discothyrea_oculata\", \"Discothyrea_testacea\", \"Proceratium_croceum\", \"Proceratium_pergandei\", \"Probolomyrmex_guineensis\", \"Aneuretus_simoni\", \"Leptomyrmex_pallens\", \"Iridomyrmex_purpureus\", \"Dolichoderus_laminatus\", \"Tapinoma_erraticum\", \"Technomyrmex_albipes\", \"Gesomyrmex_luzonensis\", \"Oecophylla_smaragdina\", \"Myrmecia_nigriscapa\", \"Manica_rubida\", \"Pogonomyrmex_barbatus\", \"Metapone_madagascarica\", \"Pseudomyrmex_gracilis\", \"Tetraponera_aethiops\", \"Tetraponera_attenuata\", \"Acanthostichus_serratulus\", \"Cerapachys_nitidulus\", \"Cerapachys_doryloides\", \"Cylindromyrmex_brevitarsus\", \"Simopone_schoutedeni\", \"Leptanilliodes_biconstricta\", \"Dorylus_helvolus\", \"Aenictus_binghami\", \"Cheliomyrmex_morosus\", \"Labidus_coecus\", \"Eciton_hamatum\", \"Scolia_nobilitata\"]"
   ]
  },
  {
   "cell_type": "code",
   "execution_count": 48,
   "id": "27187542",
   "metadata": {
    "collapsed": true
   },
   "outputs": [
    {
     "name": "stdout",
     "output_type": "stream",
     "text": [
      "                       taxon  age\n",
      "0        Brownimecia_clavata   92\n",
      "1                Camelomecia   99\n",
      "2         Chyphotes_mellipes   99\n",
      "3    Gerontoformica_gracilis  100\n",
      "4      Gerontoformica_magnus  100\n",
      "..                       ...  ...\n",
      "750   Wasmannia_auropunctata    0\n",
      "751    Xenomyrmex_floridanus    0\n",
      "752           Xymmer_muticus    0\n",
      "753     Zatania_albimaculata    0\n",
      "754         Zatania_gloriosa    0\n",
      "\n",
      "[755 rows x 2 columns]\n"
     ]
    }
   ],
   "source": [
    "df_1 = pd.read_csv(\"taxa.tsv\", sep = \"\\t\")\n",
    "print(df_1)"
   ]
  },
  {
   "cell_type": "code",
   "execution_count": 61,
   "id": "3b55dde1",
   "metadata": {},
   "outputs": [],
   "source": [
    "df2 = df_1[df_1[\"taxon\"].isin(search_list)]"
   ]
  },
  {
   "cell_type": "code",
   "execution_count": 62,
   "id": "1aa00ab1",
   "metadata": {},
   "outputs": [
    {
     "data": {
      "text/html": [
       "<div>\n",
       "<style scoped>\n",
       "    .dataframe tbody tr th:only-of-type {\n",
       "        vertical-align: middle;\n",
       "    }\n",
       "\n",
       "    .dataframe tbody tr th {\n",
       "        vertical-align: top;\n",
       "    }\n",
       "\n",
       "    .dataframe thead th {\n",
       "        text-align: right;\n",
       "    }\n",
       "</style>\n",
       "<table border=\"1\" class=\"dataframe\">\n",
       "  <thead>\n",
       "    <tr style=\"text-align: right;\">\n",
       "      <th></th>\n",
       "      <th>taxon</th>\n",
       "      <th>age</th>\n",
       "    </tr>\n",
       "  </thead>\n",
       "  <tbody>\n",
       "    <tr>\n",
       "      <th>0</th>\n",
       "      <td>Brownimecia_clavata</td>\n",
       "      <td>92</td>\n",
       "    </tr>\n",
       "    <tr>\n",
       "      <th>1</th>\n",
       "      <td>Camelomecia</td>\n",
       "      <td>99</td>\n",
       "    </tr>\n",
       "    <tr>\n",
       "      <th>2</th>\n",
       "      <td>Chyphotes_mellipes</td>\n",
       "      <td>99</td>\n",
       "    </tr>\n",
       "    <tr>\n",
       "      <th>3</th>\n",
       "      <td>Gerontoformica_gracilis</td>\n",
       "      <td>100</td>\n",
       "    </tr>\n",
       "    <tr>\n",
       "      <th>4</th>\n",
       "      <td>Gerontoformica_magnus</td>\n",
       "      <td>100</td>\n",
       "    </tr>\n",
       "    <tr>\n",
       "      <th>...</th>\n",
       "      <td>...</td>\n",
       "      <td>...</td>\n",
       "    </tr>\n",
       "    <tr>\n",
       "      <th>128</th>\n",
       "      <td>Pogonomyrmex_californicus</td>\n",
       "      <td>0</td>\n",
       "    </tr>\n",
       "    <tr>\n",
       "      <th>129</th>\n",
       "      <td>Proceratium_stictum</td>\n",
       "      <td>0</td>\n",
       "    </tr>\n",
       "    <tr>\n",
       "      <th>130</th>\n",
       "      <td>Tetraponera_punctulata</td>\n",
       "      <td>0</td>\n",
       "    </tr>\n",
       "    <tr>\n",
       "      <th>272</th>\n",
       "      <td>Chalybion_californicum</td>\n",
       "      <td>0</td>\n",
       "    </tr>\n",
       "    <tr>\n",
       "      <th>637</th>\n",
       "      <td>Scolia_verticalis</td>\n",
       "      <td>0</td>\n",
       "    </tr>\n",
       "  </tbody>\n",
       "</table>\n",
       "<p>130 rows × 2 columns</p>\n",
       "</div>"
      ],
      "text/plain": [
       "                         taxon  age\n",
       "0          Brownimecia_clavata   92\n",
       "1                  Camelomecia   99\n",
       "2           Chyphotes_mellipes   99\n",
       "3      Gerontoformica_gracilis  100\n",
       "4        Gerontoformica_magnus  100\n",
       "..                         ...  ...\n",
       "128  Pogonomyrmex_californicus    0\n",
       "129        Proceratium_stictum    0\n",
       "130     Tetraponera_punctulata    0\n",
       "272     Chalybion_californicum    0\n",
       "637          Scolia_verticalis    0\n",
       "\n",
       "[130 rows x 2 columns]"
      ]
     },
     "execution_count": 62,
     "metadata": {},
     "output_type": "execute_result"
    }
   ],
   "source": [
    "df2"
   ]
  },
  {
   "cell_type": "code",
   "execution_count": null,
   "id": "08810022",
   "metadata": {},
   "outputs": [],
   "source": []
  }
 ],
 "metadata": {
  "kernelspec": {
   "display_name": "Python 3",
   "language": "python",
   "name": "python3"
  },
  "language_info": {
   "codemirror_mode": {
    "name": "ipython",
    "version": 3
   },
   "file_extension": ".py",
   "mimetype": "text/x-python",
   "name": "python",
   "nbconvert_exporter": "python",
   "pygments_lexer": "ipython3",
   "version": "3.9.1"
  }
 },
 "nbformat": 4,
 "nbformat_minor": 5
}
