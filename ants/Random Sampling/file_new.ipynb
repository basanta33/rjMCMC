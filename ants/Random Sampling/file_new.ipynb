{
 "cells": [
  {
   "cell_type": "code",
   "execution_count": 1,
   "id": "b30a7485-628b-41e8-8b91-96a6663a8565",
   "metadata": {},
   "outputs": [],
   "source": [
    "import pandas as pd\n",
    "import csv\n",
    "import random\n",
    "import os"
   ]
  },
  {
   "cell_type": "code",
   "execution_count": 2,
   "id": "4456dd3c-5be4-4197-8fee-bd6df598bc91",
   "metadata": {},
   "outputs": [],
   "source": [
    "#reading the csv file\n",
    "df_o = pd.read_csv('taxa_new.csv')"
   ]
  },
  {
   "cell_type": "code",
   "execution_count": 3,
   "id": "3d376a55",
   "metadata": {},
   "outputs": [],
   "source": [
    "df = df_o[~df_o[\"taxon\"].isin(['Acanthognathus_poinari', 'Acanthostichus_hispaniolicus', 'Afropone_oculata', 'Alloiomma_changweiensis', 'Archimyrmex_piatnitzkyi', 'Attopsis_longipennis', 'Bradoponera_wunderlichi', 'Britaneuretus_anglicus', 'Canapone_dentata', 'Casaleia_eocenica', 'Ceratomyrmex_ellenbergeri', 'Eulithomyrmex_rugosus', 'Formicium_berryi', 'Paraponera_dieteri', 'Pseudomyrmex_extinctus', 'Brownimecia_clavata', 'Camelomecia_janovitzi', 'Gerontoformica_gracilis', 'Gerontoformica_magnus', 'Gerontoformica_pilosus', 'Gerontoformica_spiralis', 'Haidomyrmex_scimitarus', 'Haidomyrmodes_mammuthus', 'Haidoterminus_cippus', 'Kyromyrma_sp', 'Myanmyrma_gracilis', 'Sphecomyrma_freyi'])]"
   ]
  },
  {
   "cell_type": "code",
   "execution_count": 4,
   "id": "073c0fbe",
   "metadata": {},
   "outputs": [],
   "source": [
    "df.to_csv('droppped.csv')"
   ]
  },
  {
   "cell_type": "code",
   "execution_count": 2,
   "id": "62ddf4dc",
   "metadata": {},
   "outputs": [],
   "source": [
    "df = pd.read_csv(\"droppped.csv\")"
   ]
  },
  {
   "cell_type": "code",
   "execution_count": 3,
   "id": "6d9a44b0-32a5-4e34-b909-1b27e47f6373",
   "metadata": {},
   "outputs": [],
   "source": [
    "#grouping by subfamily \n",
    "#df.tail()\n",
    "\n",
    "df_group = df.groupby(\"subfamily\").count()"
   ]
  },
  {
   "cell_type": "code",
   "execution_count": 5,
   "id": "e2f779f1-61f5-44c1-afe4-9296e6d914f2",
   "metadata": {},
   "outputs": [],
   "source": [
    "#getting the minimum age subfamily\n",
    "df_a = df.groupby(\"subfamily\")[[\"taxon\",\"min_yr\", \"max_yr\"]].min().reset_index(drop=True)\n",
    "df_a.columns = [\"taxon\", \"min\",  \"max\"]\n",
    "df_a.to_csv('Ants_file_min.tsv', sep = \"\\t\", index = False)\n"
   ]
  },
  {
   "cell_type": "code",
   "execution_count": 7,
   "id": "a1cb9c27-6a7c-4a4a-b575-de6b7c50892b",
   "metadata": {},
   "outputs": [],
   "source": [
    "#getting the maximum age subfamily\n",
    "df_b = df.groupby(\"subfamily\")[[\"taxon\",\"min_yr\", \"max_yr\"]].max().reset_index(drop=True)\n",
    "df_b.columns = [\"taxon\", \"min\",  \"max\"]\n",
    "df_b.to_csv('Ants_file_max.tsv', sep = \"\\t\", index = False)"
   ]
  },
  {
   "cell_type": "code",
   "execution_count": 9,
   "id": "ca7ea38a-1132-45e5-b588-c91629f804c3",
   "metadata": {},
   "outputs": [],
   "source": [
    "#getting one from each subfamily \n",
    "for i in range(20):   \n",
    "    y = df.groupby('subfamily')[[\"taxon\", \"min_yr\", \"max_yr\"]].apply(lambda x: x.sample(1)).reset_index(drop=True)\n",
    "    y.columns = [\"taxon\", \"min\",  \"max\"]\n",
    "    file_string = \"Ants_random_\" +  str(i)\n",
    "    y.to_csv(f'random{i+1}.tsv', sep = \"\\t\", index = False)"
   ]
  }
 ],
 "metadata": {
  "kernelspec": {
   "display_name": "Python 3.9.7 ('base')",
   "language": "python",
   "name": "python3"
  },
  "language_info": {
   "codemirror_mode": {
    "name": "ipython",
    "version": 3
   },
   "file_extension": ".py",
   "mimetype": "text/x-python",
   "name": "python",
   "nbconvert_exporter": "python",
   "pygments_lexer": "ipython3",
   "version": "3.9.7"
  },
  "vscode": {
   "interpreter": {
    "hash": "ad2bdc8ecc057115af97d19610ffacc2b4e99fae6737bb82f5d7fb13d2f2c186"
   }
  }
 },
 "nbformat": 4,
 "nbformat_minor": 5
}
